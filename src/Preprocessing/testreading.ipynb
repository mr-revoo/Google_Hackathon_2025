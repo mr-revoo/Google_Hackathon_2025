{
 "cells": [
  {
   "cell_type": "markdown",
   "metadata": {},
   "source": [
    "### Creditintials"
   ]
  },
  {
   "cell_type": "code",
   "execution_count": 1,
   "metadata": {},
   "outputs": [],
   "source": [
    "import os\n",
    "os.environ[\"GOOGLE_APPLICATION_CREDENTIALS\"] = \"/home/youssef/Desktop/GDG/startups-452221-a288712043d0.json\""
   ]
  },
  {
   "cell_type": "markdown",
   "metadata": {},
   "source": [
    "### Load data"
   ]
  },
  {
   "cell_type": "code",
   "execution_count": 2,
   "metadata": {},
   "outputs": [
    {
     "ename": "ImportError",
     "evalue": "cannot import name 'bigquery' from 'google.cloud' (unknown location)",
     "output_type": "error",
     "traceback": [
      "\u001b[1;31m---------------------------------------------------------------------------\u001b[0m",
      "\u001b[1;31mImportError\u001b[0m                               Traceback (most recent call last)",
      "Cell \u001b[1;32mIn[2], line 2\u001b[0m\n\u001b[0;32m      1\u001b[0m \u001b[38;5;28;01mimport\u001b[39;00m \u001b[38;5;21;01mpandas\u001b[39;00m \u001b[38;5;28;01mas\u001b[39;00m \u001b[38;5;21;01mpd\u001b[39;00m\n\u001b[1;32m----> 2\u001b[0m \u001b[38;5;28;01mfrom\u001b[39;00m \u001b[38;5;21;01mgoogle\u001b[39;00m\u001b[38;5;21;01m.\u001b[39;00m\u001b[38;5;21;01mcloud\u001b[39;00m \u001b[38;5;28;01mimport\u001b[39;00m bigquery\n\u001b[0;32m      4\u001b[0m client \u001b[38;5;241m=\u001b[39m bigquery\u001b[38;5;241m.\u001b[39mClient(location\u001b[38;5;241m=\u001b[39m\u001b[38;5;124m\"\u001b[39m\u001b[38;5;124mUS\u001b[39m\u001b[38;5;124m\"\u001b[39m)\n\u001b[0;32m      6\u001b[0m query \u001b[38;5;241m=\u001b[39m \u001b[38;5;124m\"\"\"\u001b[39m\n\u001b[0;32m      7\u001b[0m \u001b[38;5;124mSELECT * \u001b[39m\n\u001b[0;32m      8\u001b[0m \u001b[38;5;124mFROM `startups-452221.america_dataset.investment`\u001b[39m\n\u001b[0;32m      9\u001b[0m \u001b[38;5;124mLIMIT 1000\u001b[39m\n\u001b[0;32m     10\u001b[0m \u001b[38;5;124m\"\"\"\u001b[39m\n",
      "\u001b[1;31mImportError\u001b[0m: cannot import name 'bigquery' from 'google.cloud' (unknown location)"
     ]
    }
   ],
   "source": [
    "import pandas as pd\n",
    "from google.cloud import bigquery\n",
    "\n",
    "client = bigquery.Client(location=\"US\")\n",
    "\n",
    "query = \"\"\"\n",
    "SELECT * \n",
    "FROM `startups-452221.america_dataset.investment`\n",
    "LIMIT 1000\n",
    "\"\"\"\n",
    "df = client.query(query).to_dataframe()\n",
    "\n",
    "\n",
    "df = client.query(query).to_dataframe()\n",
    "df.head()  # Preview the first 5 rows\n"
   ]
  },
  {
   "cell_type": "markdown",
   "metadata": {},
   "source": [
    "### Load data"
   ]
  },
  {
   "cell_type": "code",
   "execution_count": 6,
   "metadata": {},
   "outputs": [
    {
     "name": "stdout",
     "output_type": "stream",
     "text": [
      "Tables in dataset:\n",
      "investment\n"
     ]
    },
    {
     "name": "stderr",
     "output_type": "stream",
     "text": [
      "/home/youssef/Desktop/GDG/env/lib/python3.13/site-packages/google/cloud/bigquery/table.py:1900: UserWarning: BigQuery Storage module not found, fetch data with the REST endpoint instead.\n",
      "  warnings.warn(\n"
     ]
    },
    {
     "name": "stdout",
     "output_type": "stream",
     "text": [
      "      status country_code         region  funding_rounds first_funding_at  \\\n",
      "0   acquired          USA  New York City             1.0       2012-06-30   \n",
      "1  operating          USA    Los Angeles             2.0       2010-06-04   \n",
      "2  operating          EST        Tallinn             1.0       2012-08-09   \n",
      "3  operating          GBR         London             1.0       2011-04-01   \n",
      "4  operating          USA         Dallas             2.0       2014-08-17   \n",
      "\n",
      "  last_funding_at       seed    venture  equity_crowdfunding  undisclosed  \\\n",
      "0      2012-06-30  1750000.0        0.0                  0.0          0.0   \n",
      "1      2010-09-23        0.0  4000000.0                  0.0          0.0   \n",
      "2      2012-08-09    40000.0        0.0                  0.0          0.0   \n",
      "3      2011-04-01  1500000.0        0.0                  0.0          0.0   \n",
      "4      2014-09-26        0.0        0.0              60000.0          0.0   \n",
      "\n",
      "   ...  secondary_market  product_crowdfunding  round_A  round_B  round_C  \\\n",
      "0  ...               0.0                   0.0      0.0      0.0      0.0   \n",
      "1  ...               0.0                   0.0      0.0      0.0      0.0   \n",
      "2  ...               0.0                   0.0      0.0      0.0      0.0   \n",
      "3  ...               0.0                   0.0      0.0      0.0      0.0   \n",
      "4  ...               0.0                   0.0      0.0      0.0      0.0   \n",
      "\n",
      "   round_D  round_E  round_F  round_G  round_H  \n",
      "0      0.0      0.0      0.0      0.0      0.0  \n",
      "1      0.0      0.0      0.0      0.0      0.0  \n",
      "2      0.0      0.0      0.0      0.0      0.0  \n",
      "3      0.0      0.0      0.0      0.0      0.0  \n",
      "4      0.0      0.0      0.0      0.0      0.0  \n",
      "\n",
      "[5 rows x 27 columns]\n"
     ]
    }
   ],
   "source": [
    "import os\n",
    "import pandas as pd\n",
    "from google.cloud import bigquery\n",
    "\n",
    "# Set the environment variable for Google Cloud credentials\n",
    "os.environ[\"GOOGLE_APPLICATION_CREDENTIALS\"] = \"/home/youssef/Desktop/GDG/startups-452221-a288712043d0.json\"\n",
    "\n",
    "# Initialize the BigQuery client\n",
    "client = bigquery.Client(location=\"US\")\n",
    "\n",
    "# List tables in the dataset to verify the table exists\n",
    "dataset_id = \"startups-452221.america_dataset\"\n",
    "tables = client.list_tables(dataset_id)\n",
    "\n",
    "print(\"Tables in dataset:\")\n",
    "for table in tables:\n",
    "    print(table.table_id)\n",
    "\n",
    "# Define the query to read data from BigQuery\n",
    "query = \"\"\"\n",
    "SELECT * \n",
    "FROM `startups-452221.america_dataset.investment`\n",
    "\n",
    "\"\"\"\n",
    "\n",
    "# Execute the query and load the results into a Pandas DataFrame\n",
    "try:\n",
    "    df = client.query(query).to_dataframe()\n",
    "    # Preview the first 5 rows of the DataFrame\n",
    "    print(df.head())\n",
    "except Exception as e:\n",
    "    print(f\"An error occurred: {e}\")"
   ]
  },
  {
   "cell_type": "code",
   "execution_count": 9,
   "metadata": {},
   "outputs": [
    {
     "data": {
      "application/vnd.microsoft.datawrangler.viewer.v0+json": {
       "columns": [
        {
         "name": "index",
         "rawType": "int64",
         "type": "integer"
        },
        {
         "name": "status",
         "rawType": "object",
         "type": "string"
        },
        {
         "name": "country_code",
         "rawType": "object",
         "type": "string"
        },
        {
         "name": "region",
         "rawType": "object",
         "type": "string"
        },
        {
         "name": "funding_rounds",
         "rawType": "float64",
         "type": "float"
        },
        {
         "name": "first_funding_at",
         "rawType": "dbdate",
         "type": "unknown"
        },
        {
         "name": "last_funding_at",
         "rawType": "dbdate",
         "type": "unknown"
        },
        {
         "name": "seed",
         "rawType": "float64",
         "type": "float"
        },
        {
         "name": "venture",
         "rawType": "float64",
         "type": "float"
        },
        {
         "name": "equity_crowdfunding",
         "rawType": "float64",
         "type": "float"
        },
        {
         "name": "undisclosed",
         "rawType": "float64",
         "type": "float"
        },
        {
         "name": "convertible_note",
         "rawType": "float64",
         "type": "float"
        },
        {
         "name": "debt_financing",
         "rawType": "float64",
         "type": "float"
        },
        {
         "name": "angel",
         "rawType": "float64",
         "type": "float"
        },
        {
         "name": "grant",
         "rawType": "float64",
         "type": "float"
        },
        {
         "name": "private_equity",
         "rawType": "float64",
         "type": "float"
        },
        {
         "name": "post_ipo_equity",
         "rawType": "float64",
         "type": "float"
        },
        {
         "name": "post_ipo_debt",
         "rawType": "float64",
         "type": "float"
        },
        {
         "name": "secondary_market",
         "rawType": "float64",
         "type": "float"
        },
        {
         "name": "product_crowdfunding",
         "rawType": "float64",
         "type": "float"
        },
        {
         "name": "round_A",
         "rawType": "float64",
         "type": "float"
        },
        {
         "name": "round_B",
         "rawType": "float64",
         "type": "float"
        },
        {
         "name": "round_C",
         "rawType": "float64",
         "type": "float"
        },
        {
         "name": "round_D",
         "rawType": "float64",
         "type": "float"
        },
        {
         "name": "round_E",
         "rawType": "float64",
         "type": "float"
        },
        {
         "name": "round_F",
         "rawType": "float64",
         "type": "float"
        },
        {
         "name": "round_G",
         "rawType": "float64",
         "type": "float"
        },
        {
         "name": "round_H",
         "rawType": "float64",
         "type": "float"
        }
       ],
       "conversionMethod": "pd.DataFrame",
       "ref": "af5b54a5-ca27-42bf-96f8-b4b8483af1b8",
       "rows": [
        [
         "0",
         "acquired",
         "USA",
         "New York City",
         "1.0",
         "2012-06-30",
         "2012-06-30",
         "1750000.0",
         "0.0",
         "0.0",
         "0.0",
         "0.0",
         "0.0",
         "0.0",
         "0.0",
         "0.0",
         "0.0",
         "0.0",
         "0.0",
         "0.0",
         "0.0",
         "0.0",
         "0.0",
         "0.0",
         "0.0",
         "0.0",
         "0.0",
         "0.0"
        ],
        [
         "1",
         "operating",
         "USA",
         "Los Angeles",
         "2.0",
         "2010-06-04",
         "2010-09-23",
         "0.0",
         "4000000.0",
         "0.0",
         "0.0",
         "0.0",
         "0.0",
         "0.0",
         "0.0",
         "0.0",
         "0.0",
         "0.0",
         "0.0",
         "0.0",
         "0.0",
         "0.0",
         "0.0",
         "0.0",
         "0.0",
         "0.0",
         "0.0",
         "0.0"
        ],
        [
         "2",
         "operating",
         "EST",
         "Tallinn",
         "1.0",
         "2012-08-09",
         "2012-08-09",
         "40000.0",
         "0.0",
         "0.0",
         "0.0",
         "0.0",
         "0.0",
         "0.0",
         "0.0",
         "0.0",
         "0.0",
         "0.0",
         "0.0",
         "0.0",
         "0.0",
         "0.0",
         "0.0",
         "0.0",
         "0.0",
         "0.0",
         "0.0",
         "0.0"
        ],
        [
         "3",
         "operating",
         "GBR",
         "London",
         "1.0",
         "2011-04-01",
         "2011-04-01",
         "1500000.0",
         "0.0",
         "0.0",
         "0.0",
         "0.0",
         "0.0",
         "0.0",
         "0.0",
         "0.0",
         "0.0",
         "0.0",
         "0.0",
         "0.0",
         "0.0",
         "0.0",
         "0.0",
         "0.0",
         "0.0",
         "0.0",
         "0.0",
         "0.0"
        ],
        [
         "4",
         "operating",
         "USA",
         "Dallas",
         "2.0",
         "2014-08-17",
         "2014-09-26",
         "0.0",
         "0.0",
         "60000.0",
         "0.0",
         "0.0",
         "0.0",
         "0.0",
         "0.0",
         "0.0",
         "0.0",
         "0.0",
         "0.0",
         "0.0",
         "0.0",
         "0.0",
         "0.0",
         "0.0",
         "0.0",
         "0.0",
         "0.0",
         "0.0"
        ]
       ],
       "shape": {
        "columns": 27,
        "rows": 5
       }
      },
      "text/html": [
       "<div>\n",
       "<style scoped>\n",
       "    .dataframe tbody tr th:only-of-type {\n",
       "        vertical-align: middle;\n",
       "    }\n",
       "\n",
       "    .dataframe tbody tr th {\n",
       "        vertical-align: top;\n",
       "    }\n",
       "\n",
       "    .dataframe thead th {\n",
       "        text-align: right;\n",
       "    }\n",
       "</style>\n",
       "<table border=\"1\" class=\"dataframe\">\n",
       "  <thead>\n",
       "    <tr style=\"text-align: right;\">\n",
       "      <th></th>\n",
       "      <th>status</th>\n",
       "      <th>country_code</th>\n",
       "      <th>region</th>\n",
       "      <th>funding_rounds</th>\n",
       "      <th>first_funding_at</th>\n",
       "      <th>last_funding_at</th>\n",
       "      <th>seed</th>\n",
       "      <th>venture</th>\n",
       "      <th>equity_crowdfunding</th>\n",
       "      <th>undisclosed</th>\n",
       "      <th>...</th>\n",
       "      <th>secondary_market</th>\n",
       "      <th>product_crowdfunding</th>\n",
       "      <th>round_A</th>\n",
       "      <th>round_B</th>\n",
       "      <th>round_C</th>\n",
       "      <th>round_D</th>\n",
       "      <th>round_E</th>\n",
       "      <th>round_F</th>\n",
       "      <th>round_G</th>\n",
       "      <th>round_H</th>\n",
       "    </tr>\n",
       "  </thead>\n",
       "  <tbody>\n",
       "    <tr>\n",
       "      <th>0</th>\n",
       "      <td>acquired</td>\n",
       "      <td>USA</td>\n",
       "      <td>New York City</td>\n",
       "      <td>1.0</td>\n",
       "      <td>2012-06-30</td>\n",
       "      <td>2012-06-30</td>\n",
       "      <td>1750000.0</td>\n",
       "      <td>0.0</td>\n",
       "      <td>0.0</td>\n",
       "      <td>0.0</td>\n",
       "      <td>...</td>\n",
       "      <td>0.0</td>\n",
       "      <td>0.0</td>\n",
       "      <td>0.0</td>\n",
       "      <td>0.0</td>\n",
       "      <td>0.0</td>\n",
       "      <td>0.0</td>\n",
       "      <td>0.0</td>\n",
       "      <td>0.0</td>\n",
       "      <td>0.0</td>\n",
       "      <td>0.0</td>\n",
       "    </tr>\n",
       "    <tr>\n",
       "      <th>1</th>\n",
       "      <td>operating</td>\n",
       "      <td>USA</td>\n",
       "      <td>Los Angeles</td>\n",
       "      <td>2.0</td>\n",
       "      <td>2010-06-04</td>\n",
       "      <td>2010-09-23</td>\n",
       "      <td>0.0</td>\n",
       "      <td>4000000.0</td>\n",
       "      <td>0.0</td>\n",
       "      <td>0.0</td>\n",
       "      <td>...</td>\n",
       "      <td>0.0</td>\n",
       "      <td>0.0</td>\n",
       "      <td>0.0</td>\n",
       "      <td>0.0</td>\n",
       "      <td>0.0</td>\n",
       "      <td>0.0</td>\n",
       "      <td>0.0</td>\n",
       "      <td>0.0</td>\n",
       "      <td>0.0</td>\n",
       "      <td>0.0</td>\n",
       "    </tr>\n",
       "    <tr>\n",
       "      <th>2</th>\n",
       "      <td>operating</td>\n",
       "      <td>EST</td>\n",
       "      <td>Tallinn</td>\n",
       "      <td>1.0</td>\n",
       "      <td>2012-08-09</td>\n",
       "      <td>2012-08-09</td>\n",
       "      <td>40000.0</td>\n",
       "      <td>0.0</td>\n",
       "      <td>0.0</td>\n",
       "      <td>0.0</td>\n",
       "      <td>...</td>\n",
       "      <td>0.0</td>\n",
       "      <td>0.0</td>\n",
       "      <td>0.0</td>\n",
       "      <td>0.0</td>\n",
       "      <td>0.0</td>\n",
       "      <td>0.0</td>\n",
       "      <td>0.0</td>\n",
       "      <td>0.0</td>\n",
       "      <td>0.0</td>\n",
       "      <td>0.0</td>\n",
       "    </tr>\n",
       "    <tr>\n",
       "      <th>3</th>\n",
       "      <td>operating</td>\n",
       "      <td>GBR</td>\n",
       "      <td>London</td>\n",
       "      <td>1.0</td>\n",
       "      <td>2011-04-01</td>\n",
       "      <td>2011-04-01</td>\n",
       "      <td>1500000.0</td>\n",
       "      <td>0.0</td>\n",
       "      <td>0.0</td>\n",
       "      <td>0.0</td>\n",
       "      <td>...</td>\n",
       "      <td>0.0</td>\n",
       "      <td>0.0</td>\n",
       "      <td>0.0</td>\n",
       "      <td>0.0</td>\n",
       "      <td>0.0</td>\n",
       "      <td>0.0</td>\n",
       "      <td>0.0</td>\n",
       "      <td>0.0</td>\n",
       "      <td>0.0</td>\n",
       "      <td>0.0</td>\n",
       "    </tr>\n",
       "    <tr>\n",
       "      <th>4</th>\n",
       "      <td>operating</td>\n",
       "      <td>USA</td>\n",
       "      <td>Dallas</td>\n",
       "      <td>2.0</td>\n",
       "      <td>2014-08-17</td>\n",
       "      <td>2014-09-26</td>\n",
       "      <td>0.0</td>\n",
       "      <td>0.0</td>\n",
       "      <td>60000.0</td>\n",
       "      <td>0.0</td>\n",
       "      <td>...</td>\n",
       "      <td>0.0</td>\n",
       "      <td>0.0</td>\n",
       "      <td>0.0</td>\n",
       "      <td>0.0</td>\n",
       "      <td>0.0</td>\n",
       "      <td>0.0</td>\n",
       "      <td>0.0</td>\n",
       "      <td>0.0</td>\n",
       "      <td>0.0</td>\n",
       "      <td>0.0</td>\n",
       "    </tr>\n",
       "  </tbody>\n",
       "</table>\n",
       "<p>5 rows × 27 columns</p>\n",
       "</div>"
      ],
      "text/plain": [
       "      status country_code         region  funding_rounds first_funding_at  \\\n",
       "0   acquired          USA  New York City             1.0       2012-06-30   \n",
       "1  operating          USA    Los Angeles             2.0       2010-06-04   \n",
       "2  operating          EST        Tallinn             1.0       2012-08-09   \n",
       "3  operating          GBR         London             1.0       2011-04-01   \n",
       "4  operating          USA         Dallas             2.0       2014-08-17   \n",
       "\n",
       "  last_funding_at       seed    venture  equity_crowdfunding  undisclosed  \\\n",
       "0      2012-06-30  1750000.0        0.0                  0.0          0.0   \n",
       "1      2010-09-23        0.0  4000000.0                  0.0          0.0   \n",
       "2      2012-08-09    40000.0        0.0                  0.0          0.0   \n",
       "3      2011-04-01  1500000.0        0.0                  0.0          0.0   \n",
       "4      2014-09-26        0.0        0.0              60000.0          0.0   \n",
       "\n",
       "   ...  secondary_market  product_crowdfunding  round_A  round_B  round_C  \\\n",
       "0  ...               0.0                   0.0      0.0      0.0      0.0   \n",
       "1  ...               0.0                   0.0      0.0      0.0      0.0   \n",
       "2  ...               0.0                   0.0      0.0      0.0      0.0   \n",
       "3  ...               0.0                   0.0      0.0      0.0      0.0   \n",
       "4  ...               0.0                   0.0      0.0      0.0      0.0   \n",
       "\n",
       "   round_D  round_E  round_F  round_G  round_H  \n",
       "0      0.0      0.0      0.0      0.0      0.0  \n",
       "1      0.0      0.0      0.0      0.0      0.0  \n",
       "2      0.0      0.0      0.0      0.0      0.0  \n",
       "3      0.0      0.0      0.0      0.0      0.0  \n",
       "4      0.0      0.0      0.0      0.0      0.0  \n",
       "\n",
       "[5 rows x 27 columns]"
      ]
     },
     "execution_count": 9,
     "metadata": {},
     "output_type": "execute_result"
    }
   ],
   "source": [
    "df.head()"
   ]
  },
  {
   "cell_type": "code",
   "execution_count": null,
   "metadata": {},
   "outputs": [],
   "source": []
  }
 ],
 "metadata": {
  "kernelspec": {
   "display_name": "Python 3",
   "language": "python",
   "name": "python3"
  },
  "language_info": {
   "codemirror_mode": {
    "name": "ipython",
    "version": 3
   },
   "file_extension": ".py",
   "mimetype": "text/x-python",
   "name": "python",
   "nbconvert_exporter": "python",
   "pygments_lexer": "ipython3",
   "version": "3.12.7"
  }
 },
 "nbformat": 4,
 "nbformat_minor": 2
}
